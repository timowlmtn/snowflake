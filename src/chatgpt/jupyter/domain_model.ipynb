{
 "cells": [
  {
   "cell_type": "code",
   "execution_count": 1,
   "metadata": {
    "collapsed": true,
    "ExecuteTime": {
     "start_time": "2023-05-09T09:50:25.460256Z",
     "end_time": "2023-05-09T09:50:25.677267Z"
    }
   },
   "outputs": [],
   "source": [
    "import openai\n",
    "import os\n",
    "\n",
    "from dotenv import load_dotenv, find_dotenv\n",
    "_ = load_dotenv(find_dotenv())\n",
    "\n",
    "openai.api_key = os.getenv('OPENAI_API_KEY')\n"
   ]
  },
  {
   "cell_type": "code",
   "execution_count": 2,
   "outputs": [],
   "source": [
    "def get_completion(prompt, model=\"gpt-3.5-turbo\"):\n",
    "    messages = [{\"role\": \"user\", \"content\": prompt}]\n",
    "    response = openai.ChatCompletion.create(\n",
    "        model=model,\n",
    "        messages=messages,\n",
    "        temperature=0, # This is the degree of randomness\n",
    "    )\n",
    "    return response.choices[0].message[\"content\"]\n"
   ],
   "metadata": {
    "collapsed": false,
    "ExecuteTime": {
     "start_time": "2023-05-09T09:50:25.668876Z",
     "end_time": "2023-05-09T09:50:25.700650Z"
    }
   }
  },
  {
   "cell_type": "code",
   "execution_count": 3,
   "outputs": [],
   "source": [
    "import requests\n",
    "import json"
   ],
   "metadata": {
    "collapsed": false,
    "ExecuteTime": {
     "start_time": "2023-05-09T09:50:25.678291Z",
     "end_time": "2023-05-09T09:50:25.704320Z"
    }
   }
  },
  {
   "cell_type": "code",
   "execution_count": 4,
   "outputs": [],
   "source": [
    "django_root = requests.get(\"https://api.kexp.org/v2/\")\n",
    "body_object = json.loads(django_root.text)"
   ],
   "metadata": {
    "collapsed": false,
    "ExecuteTime": {
     "start_time": "2023-05-09T09:50:25.683687Z",
     "end_time": "2023-05-09T09:50:25.866664Z"
    }
   }
  },
  {
   "cell_type": "code",
   "execution_count": 5,
   "outputs": [
    {
     "name": "stdout",
     "output_type": "stream",
     "text": [
      "dict_keys(['hosts', 'programs', 'shows', 'plays', 'timeslots'])\n"
     ]
    }
   ],
   "source": [
    "print(body_object.keys())"
   ],
   "metadata": {
    "collapsed": false,
    "ExecuteTime": {
     "start_time": "2023-05-09T09:50:25.869104Z",
     "end_time": "2023-05-09T09:50:25.871020Z"
    }
   }
  },
  {
   "cell_type": "code",
   "execution_count": 6,
   "outputs": [],
   "source": [
    "prompt = f\"\"\"\n",
    "Your task is to build a domain model for a data pipeline based on\n",
    "core domain objects.\n",
    "\n",
    "Write a set of JSON objects containing properties, data types,\n",
    "and descriptions for each of the domains delimited by triple backticks.\n",
    "\n",
    "Use only 1 level of nesting.\n",
    "\n",
    "```{body_object.keys()}````\n",
    "\"\"\""
   ],
   "metadata": {
    "collapsed": false,
    "ExecuteTime": {
     "start_time": "2023-05-09T09:50:25.872092Z",
     "end_time": "2023-05-09T09:50:25.872919Z"
    }
   }
  },
  {
   "cell_type": "code",
   "execution_count": 7,
   "outputs": [
    {
     "name": "stdout",
     "output_type": "stream",
     "text": [
      "```\n",
      "{\n",
      "  \"hosts\": [\n",
      "    {\n",
      "      \"id\": \"string\",\n",
      "      \"name\": \"string\",\n",
      "      \"bio\": \"string\",\n",
      "      \"social_media_links\": [\n",
      "        {\n",
      "          \"platform\": \"string\",\n",
      "          \"link\": \"string\"\n",
      "        }\n",
      "      ]\n",
      "    }\n",
      "  ],\n",
      "  \"programs\": [\n",
      "    {\n",
      "      \"id\": \"string\",\n",
      "      \"name\": \"string\",\n",
      "      \"description\": \"string\",\n",
      "      \"hosts\": [\n",
      "        {\n",
      "          \"id\": \"string\",\n",
      "          \"name\": \"string\"\n",
      "        }\n",
      "      ]\n",
      "    }\n",
      "  ],\n",
      "  \"shows\": [\n",
      "    {\n",
      "      \"id\": \"string\",\n",
      "      \"name\": \"string\",\n",
      "      \"description\": \"string\",\n",
      "      \"program_id\": \"string\"\n",
      "    }\n",
      "  ],\n",
      "  \"plays\": [\n",
      "    {\n",
      "      \"id\": \"string\",\n",
      "      \"name\": \"string\",\n",
      "      \"description\": \"string\",\n",
      "      \"show_id\": \"string\"\n",
      "    }\n",
      "  ],\n",
      "  \"timeslots\": [\n",
      "    {\n",
      "      \"id\": \"string\",\n",
      "      \"start_time\": \"datetime\",\n",
      "      \"end_time\": \"datetime\",\n",
      "      \"play_id\": \"string\"\n",
      "    }\n",
      "  ]\n",
      "}\n",
      "```\n"
     ]
    }
   ],
   "source": [
    "original_domain = get_completion(prompt)\n",
    "print(original_domain)"
   ],
   "metadata": {
    "collapsed": false,
    "ExecuteTime": {
     "start_time": "2023-05-09T09:50:25.874858Z",
     "end_time": "2023-05-09T09:50:33.677115Z"
    }
   }
  },
  {
   "cell_type": "code",
   "execution_count": 8,
   "outputs": [
    {
     "name": "stdout",
     "output_type": "stream",
     "text": [
      "[{'id': 3190971, 'uri': 'https://api.kexp.org/v2/plays/3190971/', 'airdate': '2023-05-09T06:51:16-07:00', 'show': 56917, 'show_uri': 'https://api.kexp.org/v2/shows/56917/', 'image_uri': '', 'thumbnail_uri': '', 'song': 'Move Through', 'track_id': None, 'recording_id': None, 'artist': 'B3lina', 'artist_ids': ['8587cc3f-7e60-4bb7-b2fd-6906aaaa3b78'], 'album': 'Move Through', 'release_id': None, 'release_group_id': None, 'labels': [], 'label_ids': [], 'release_date': '2020-10-22', 'rotation_status': None, 'is_local': True, 'is_request': False, 'is_live': False, 'comment': None, 'play_type': 'trackplay'}, {'id': 3190970, 'uri': 'https://api.kexp.org/v2/plays/3190970/', 'airdate': '2023-05-09T06:47:33-07:00', 'show': 56917, 'show_uri': 'https://api.kexp.org/v2/shows/56917/', 'image_uri': 'https://ia601604.us.archive.org/5/items/mbid-b2e77d84-db65-49bf-b8bf-f3eedf87d970/mbid-b2e77d84-db65-49bf-b8bf-f3eedf87d970-35543389295_thumb500.jpg', 'thumbnail_uri': 'https://ia601604.us.archive.org/5/items/mbid-b2e77d84-db65-49bf-b8bf-f3eedf87d970/mbid-b2e77d84-db65-49bf-b8bf-f3eedf87d970-35543389295_thumb250.jpg', 'song': 'Water My Heart', 'track_id': '7d54b86e-e275-4821-bfec-1300a97e6070', 'recording_id': 'fda8fefb-d0cc-4dfd-93b4-f9e89c3e036e', 'artist': 'rum.gold feat. Mereba', 'artist_ids': ['83ad8820-1646-46e8-8bb8-89f19cc12087', '233f6da8-ad25-42e1-ad6a-81a3a4bfc194'], 'album': 'U Street Anthology', 'release_id': 'b2e77d84-db65-49bf-b8bf-f3eedf87d970', 'release_group_id': 'bc7cd178-371c-4033-90f5-acd7fb761089', 'labels': ['Leola'], 'label_ids': ['db92411a-6ea4-4dfb-809f-7c77bcd6610e'], 'release_date': '2023-04-28', 'rotation_status': 'Light', 'is_local': False, 'is_request': False, 'is_live': False, 'comment': 'From rum.gold\\'s new album, \"a dedication to the city that shaped me.\"\\n__\\nhttps://www.rum.gold/', 'play_type': 'trackplay'}, {'id': 3190969, 'uri': 'https://api.kexp.org/v2/plays/3190969/', 'airdate': '2023-05-09T06:45:28-07:00', 'show': 56917, 'show_uri': 'https://api.kexp.org/v2/shows/56917/', 'image_uri': '', 'thumbnail_uri': '', 'comment': '', 'play_type': 'airbreak'}, {'id': 3190968, 'uri': 'https://api.kexp.org/v2/plays/3190968/', 'airdate': '2023-05-09T06:41:28-07:00', 'show': 56917, 'show_uri': 'https://api.kexp.org/v2/shows/56917/', 'image_uri': 'https://ia802602.us.archive.org/34/items/mbid-29e9c070-4d9c-40cc-b436-a3e7d2f4e3dd/mbid-29e9c070-4d9c-40cc-b436-a3e7d2f4e3dd-35544126934_thumb500.jpg', 'thumbnail_uri': 'https://ia802602.us.archive.org/34/items/mbid-29e9c070-4d9c-40cc-b436-a3e7d2f4e3dd/mbid-29e9c070-4d9c-40cc-b436-a3e7d2f4e3dd-35544126934_thumb250.jpg', 'song': 'ndikhale', 'track_id': '349ad451-a9de-4f9e-83a3-d0d454e5ddc3', 'recording_id': '1d122777-23b7-4d90-adba-14a9f270af03', 'artist': 'Bongeziwe Mabandla', 'artist_ids': ['76d19453-4c39-4476-8f8d-9ea0afd2eec0'], 'album': 'amaXesha', 'release_id': '29e9c070-4d9c-40cc-b436-a3e7d2f4e3dd', 'release_group_id': 'a9909a92-9ff9-44e3-ac09-230c73862338', 'labels': ['Black Major'], 'label_ids': ['8d32d001-5a47-4b23-83ab-136e7146a98c'], 'release_date': '2023-05-05', 'rotation_status': 'Light', 'is_local': False, 'is_request': False, 'is_live': False, 'comment': 'Bongeziwe Mabandla is a South African musician based in Johannesburg fusing traditional Xhosa folk music with R&B, soul and electronic production. \"amaXesha\" means “The Times\" and was written during South Africa\\'s stringent pandemic lockdown.  \\n__\\nhttps://blackmajor.co.za/artist/bongeziwe-mabandla/\\n__\\nhttps://bongeziwemabandla.bandcamp.com/album/amaxesha', 'play_type': 'trackplay'}, {'id': 3190967, 'uri': 'https://api.kexp.org/v2/plays/3190967/', 'airdate': '2023-05-09T06:38:33-07:00', 'show': 56917, 'show_uri': 'https://api.kexp.org/v2/shows/56917/', 'image_uri': 'https://ia804704.us.archive.org/35/items/mbid-c58f911e-1413-4525-b4b4-53a355f113b4/mbid-c58f911e-1413-4525-b4b4-53a355f113b4-35406325056_thumb500.jpg', 'thumbnail_uri': 'https://ia904704.us.archive.org/35/items/mbid-c58f911e-1413-4525-b4b4-53a355f113b4/mbid-c58f911e-1413-4525-b4b4-53a355f113b4-35406325056_thumb250.jpg', 'song': 'Apho', 'track_id': 'e9ad8476-7ae3-44fe-b02a-eee1f4bff290', 'recording_id': 'd9d30fb2-cb5e-47d6-9833-4e47a42c1417', 'artist': 'Alfa Mist feat. Bongeziwe Mabandla', 'artist_ids': ['76d19453-4c39-4476-8f8d-9ea0afd2eec0', 'f5b41828-248a-449d-95b8-fff92db97629'], 'album': 'Variables', 'release_id': 'c58f911e-1413-4525-b4b4-53a355f113b4', 'release_group_id': '95bc6dc5-273c-4cf0-8828-3cc82f8b8d36', 'labels': ['Anti‐'], 'label_ids': ['5b8cf470-f162-4ee3-9b9f-77ff4ee0c601'], 'release_date': '2023-04-21', 'rotation_status': 'Heavy', 'is_local': False, 'is_request': False, 'is_live': False, 'comment': 'Alfa Mist\\'s fifth album \\'Variables\\' just released last month! Alfa Mist notes: \"I\\'ve been focused on who I am in my music, but now I\\'m exploring where I am. I\\'m asking: how did I get here?\"\\n__ https://alfamist.bandcamp.com/album/variables', 'play_type': 'trackplay'}, {'id': 3190966, 'uri': 'https://api.kexp.org/v2/plays/3190966/', 'airdate': '2023-05-09T06:35:37-07:00', 'show': 56917, 'show_uri': 'https://api.kexp.org/v2/shows/56917/', 'image_uri': '', 'thumbnail_uri': '', 'song': 'Breaking Barriers', 'track_id': None, 'recording_id': None, 'artist': 'Vox Sambou', 'artist_ids': ['b814fec8-90dd-4519-9304-312d9075a400'], 'album': 'We Must Unite', 'release_id': None, 'release_group_id': None, 'labels': [], 'label_ids': [], 'release_date': '2023-05-05', 'rotation_status': 'Medium', 'is_local': False, 'is_request': False, 'is_live': False, 'comment': 'Montreal-based MC Vox Sambou writes and performs in Haitian, French, English, Spanish and Portuguese.\\n__\\nIG: Vox Sambou', 'play_type': 'trackplay'}, {'id': 3190965, 'uri': 'https://api.kexp.org/v2/plays/3190965/', 'airdate': '2023-05-09T06:32:01-07:00', 'show': 56917, 'show_uri': 'https://api.kexp.org/v2/shows/56917/', 'image_uri': '', 'thumbnail_uri': '', 'comment': '', 'play_type': 'airbreak'}, {'id': 3190964, 'uri': 'https://api.kexp.org/v2/plays/3190964/', 'airdate': '2023-05-09T06:27:42-07:00', 'show': 56917, 'show_uri': 'https://api.kexp.org/v2/shows/56917/', 'image_uri': 'https://ia601608.us.archive.org/30/items/mbid-82cc8d7c-bcf3-405e-b8e7-e795668d31ed/mbid-82cc8d7c-bcf3-405e-b8e7-e795668d31ed-34766194705_thumb500.jpg', 'thumbnail_uri': 'https://ia801608.us.archive.org/30/items/mbid-82cc8d7c-bcf3-405e-b8e7-e795668d31ed/mbid-82cc8d7c-bcf3-405e-b8e7-e795668d31ed-34766194705_thumb250.jpg', 'song': 'Nunca', 'track_id': 'c59ee651-bece-41ee-bbb2-14d9002fdc90', 'recording_id': '6676beb8-62e9-4c8e-8dc8-5fe84cec9b73', 'artist': 'Y La Bamba', 'artist_ids': ['f6157276-5fab-43d5-843c-3e77cd1a12d3'], 'album': 'Lucha', 'release_id': '82cc8d7c-bcf3-405e-b8e7-e795668d31ed', 'release_group_id': 'af0a7c81-2c15-44b7-a142-205e8ff90ccd', 'labels': ['Tender Loving Empire'], 'label_ids': ['6708195c-ef0d-4d2e-a8b3-cba72670f17c'], 'release_date': '2023-04-28', 'rotation_status': 'Medium', 'is_local': True, 'is_request': False, 'is_live': False, 'comment': '\"Lucha, Y La Bamba\\'s seventh album, is a thematic narrative that explores multiplicity - love, queerness, Mexican American and Chicanx identity, family, intimacy, yearning, loneliness. Born out of isolation during the COVID-19 lockdowns, the album reflects the artist\\'s struggles and growth as a person and artist. The album is a battle cry to fight in order to be seen and accepted, and is a collection of sonically sprawling and bold tracks that document the parallel trust the artist has built with herself to allow the songs to guide how they should be sung or sound.\" \\n__\\nhttps://ylabamba.bandcamp.com/album/y-la-bamba-lucha', 'play_type': 'trackplay'}, {'id': 3190963, 'uri': 'https://api.kexp.org/v2/plays/3190963/', 'airdate': '2023-05-09T06:23:31-07:00', 'show': 56917, 'show_uri': 'https://api.kexp.org/v2/shows/56917/', 'image_uri': '', 'thumbnail_uri': '', 'song': 'Joy & Pain (Pete Rock Remix)', 'track_id': None, 'recording_id': None, 'artist': 'Lady Wray', 'artist_ids': ['ae278e0f-abc8-4c2b-ac72-0a4175e7f36b'], 'album': 'Joy & Pain (Pete Rock Remix)', 'release_id': None, 'release_group_id': None, 'labels': ['Big Crown Records'], 'label_ids': [], 'release_date': '2023-04-12', 'rotation_status': 'R/N', 'is_local': False, 'is_request': False, 'is_live': False, 'comment': \"From Lady Wray's latest album! Lady Wray will be in Seattle at Tractor Tavern on August 7!\\n__\\nhttps://bigcrownrecords.com/artists/lady-wray/\\n__\\nIG: Lady Wray\", 'play_type': 'trackplay'}, {'id': 3190962, 'uri': 'https://api.kexp.org/v2/plays/3190962/', 'airdate': '2023-05-09T06:19:29-07:00', 'show': 56917, 'show_uri': 'https://api.kexp.org/v2/shows/56917/', 'image_uri': 'https://ia801603.us.archive.org/22/items/mbid-97b30a96-2e55-428d-9b40-45291e192070/mbid-97b30a96-2e55-428d-9b40-45291e192070-34957223723_thumb500.jpg', 'thumbnail_uri': 'https://ia801603.us.archive.org/22/items/mbid-97b30a96-2e55-428d-9b40-45291e192070/mbid-97b30a96-2e55-428d-9b40-45291e192070-34957223723_thumb250.jpg', 'song': 'Someday We’ll All Be Free', 'track_id': '0f98fefc-3f03-49e9-b826-901bb24dd2a3', 'recording_id': 'e27bb1a4-f3db-43b2-85bb-bbab00b99080', 'artist': 'Durand Jones', 'artist_ids': ['70ed549e-b472-4a73-b5af-4c962976143f'], 'album': 'Wait Til I Get Over', 'release_id': '97b30a96-2e55-428d-9b40-45291e192070', 'release_group_id': '05c69b59-ce5a-4317-b601-488835444ec3', 'labels': ['Dead Oceans'], 'label_ids': ['f70f950f-2587-4f85-a5c7-b483a47bd2e9'], 'release_date': '2023-05-05', 'rotation_status': 'Heavy', 'is_local': False, 'is_request': False, 'is_live': False, 'comment': 'Durand Jones\\' solo album is about his hometown of Hillaryville, Louisiana. \"Someday We\\'ll All Be Free\" is Durand Jones\\' cover of Donny Hathaway\\'s track and also features the rapper Skypp, who pays homage to victims of police killings George Floyd, Breonna Taylor and Tamir Rice.\\n__\\nhttps://durandjonesandtheindications.com', 'play_type': 'trackplay'}, {'id': 3190961, 'uri': 'https://api.kexp.org/v2/plays/3190961/', 'airdate': '2023-05-09T06:17:47-07:00', 'show': 56917, 'show_uri': 'https://api.kexp.org/v2/shows/56917/', 'image_uri': '', 'thumbnail_uri': '', 'comment': '', 'play_type': 'airbreak'}, {'id': 3190960, 'uri': 'https://api.kexp.org/v2/plays/3190960/', 'airdate': '2023-05-09T06:12:30-07:00', 'show': 56917, 'show_uri': 'https://api.kexp.org/v2/shows/56917/', 'image_uri': '', 'thumbnail_uri': '', 'song': 'I Get Out', 'track_id': None, 'recording_id': None, 'artist': 'Damon Turner', 'artist_ids': [], 'album': 'I Get Out', 'release_id': None, 'release_group_id': None, 'labels': ['Trap Heals'], 'label_ids': [], 'release_date': '2023-04-26', 'rotation_status': 'R/N', 'is_local': False, 'is_request': False, 'is_live': False, 'comment': 'New music from Atlanta-raised rapper and songwriter Damon Turner! Cover of Lauryn Hill\\'s \"I Get Out.\"\\n__\\nhttps://iamdamonturner.bandcamp.com', 'play_type': 'trackplay'}, {'id': 3190959, 'uri': 'https://api.kexp.org/v2/plays/3190959/', 'airdate': '2023-05-09T06:07:15-07:00', 'show': 56917, 'show_uri': 'https://api.kexp.org/v2/shows/56917/', 'image_uri': 'https://ia804506.us.archive.org/29/items/mbid-a2834e17-132f-425d-8e87-5e1f1e65031c/mbid-a2834e17-132f-425d-8e87-5e1f1e65031c-30040358070_thumb500.jpg', 'thumbnail_uri': 'https://ia904506.us.archive.org/29/items/mbid-a2834e17-132f-425d-8e87-5e1f1e65031c/mbid-a2834e17-132f-425d-8e87-5e1f1e65031c-30040358070_thumb250.jpg', 'song': 'Ex-Factor', 'track_id': '46a24771-56ea-443f-a671-673bf1b3745c', 'recording_id': 'd537f129-40ce-4487-a73b-de98cd46fc7f', 'artist': 'Nina Simone & Lauryn Hill', 'artist_ids': ['e8414012-4a1c-4ad4-be5e-fc55294e28cc', '2944824d-4c26-476f-a981-be849081942f'], 'album': 'Nina Simone & Lauryn Hill - The Miseducation Of Eunice Waymon [Clean Edits]', 'release_id': 'a2834e17-132f-425d-8e87-5e1f1e65031c', 'release_group_id': '9dc65462-f29c-479e-9581-6197539c6ed0', 'labels': ['Soul Mates Records'], 'label_ids': ['f6a1510a-d31d-4112-921f-3f3b02d581d8'], 'release_date': '2018-12-03', 'rotation_status': 'Library', 'is_local': False, 'is_request': False, 'is_live': False, 'comment': 'This exclusive bonus mix of \"Ex-Factor\" that didn\\'t make it on the original project, samples a little bit of Gladys Knight & Pips and Wu-Tang - and Lauryn and Nina, of course! The work of American producer and emcee Amerigo Gazaway, The Soul Mates Project traces the roots of hip-hop and the history of music by imagining “collaborations that never were” - this one an imagined studio session between The High Priestess of Soul, Nina Simone, and living legend, Lauryn Hill. \\n__\\nhttps://amerigo.bandcamp.com/album/nina-simone-lauryn-hill-ex-factor-single', 'play_type': 'trackplay'}, {'id': 3190958, 'uri': 'https://api.kexp.org/v2/plays/3190958/', 'airdate': '2023-05-09T06:03:34-07:00', 'show': 56917, 'show_uri': 'https://api.kexp.org/v2/shows/56917/', 'image_uri': 'https://coverartarchive.org/release/607fb3dd-7110-4074-a2e8-9270f6b7e8d7/24389000187-500.jpg', 'thumbnail_uri': 'https://coverartarchive.org/release/607fb3dd-7110-4074-a2e8-9270f6b7e8d7/24389000187-250.jpg', 'song': 'You', 'track_id': None, 'recording_id': '410a3c61-8526-43c1-9971-71ad4a7f60a1', 'artist': 'Nicole Bus feat. Ghostface Killah', 'artist_ids': ['831b25fd-2c43-47ed-883e-5a23d51565eb', '3b39abeb-0064-4eed-9ddd-ee47a45c54cb'], 'album': 'Kairos', 'release_id': None, 'release_group_id': '3e086b0b-0b33-4f99-b406-aa09dc5b5f79', 'labels': ['Roc Nation'], 'label_ids': ['7204e52a-64c8-4a48-9bca-079359ee9d3f'], 'release_date': '2019-10-18', 'rotation_status': None, 'is_local': False, 'is_request': False, 'is_live': False, 'comment': 'Happy birthday to Ghostface Killah!\\n__\\nGhostface Killah brings fresh verses to a classic Wu-Tang Clan beat on a new version of Nicole Bus’ “You.” The track utilizes the same soul sample – The Charmels’ “As Long As I Got You” – that served as the foundation of Enter the Wu-Tang: 36 Chambers‘ classic “C.R.E.A.M.”\\n__\\nhttps://www.nicolebus.com/', 'play_type': 'trackplay'}, {'id': 3190957, 'uri': 'https://api.kexp.org/v2/plays/3190957/', 'airdate': '2023-05-09T06:00:51-07:00', 'show': 56917, 'show_uri': 'https://api.kexp.org/v2/shows/56917/', 'image_uri': '', 'thumbnail_uri': '', 'comment': '', 'play_type': 'airbreak'}, {'id': 3190956, 'uri': 'https://api.kexp.org/v2/plays/3190956/', 'airdate': '2023-05-09T05:56:35-07:00', 'show': 56917, 'show_uri': 'https://api.kexp.org/v2/shows/56917/', 'image_uri': 'https://ia802601.us.archive.org/20/items/mbid-13b7c049-a340-4bca-b4c6-eaf1c058061d/mbid-13b7c049-a340-4bca-b4c6-eaf1c058061d-35543974134_thumb500.jpg', 'thumbnail_uri': 'https://ia802601.us.archive.org/20/items/mbid-13b7c049-a340-4bca-b4c6-eaf1c058061d/mbid-13b7c049-a340-4bca-b4c6-eaf1c058061d-35543974134_thumb250.jpg', 'song': 'Mírame Como Soy', 'track_id': 'ea54c746-6ca1-46b4-a7d6-8f51a0f08c86', 'recording_id': '3fb7334e-2ac0-47cf-abd0-c1312d1c1e54', 'artist': 'Wendy Sulca, Lido Pimienta & Nero Lvigi', 'artist_ids': ['afc0dd1f-2f08-4882-ad86-0065b3e6917a', '59d43f36-98ca-41f1-b02b-e6a6afc0b6dd', '9fb537ca-9145-4855-8a18-17b20339f1fc'], 'album': 'Mírame Como Soy', 'release_id': '13b7c049-a340-4bca-b4c6-eaf1c058061d', 'release_group_id': '90cdcf09-530f-406a-850b-05e3b1b54044', 'labels': ['BigBlue'], 'label_ids': ['c03c96e5-b0ad-440b-8d15-9b99f678542b'], 'release_date': '2023-04-21', 'rotation_status': 'Light', 'is_local': False, 'is_request': False, 'is_live': False, 'comment': 'Video! https://www.youtube.com/watch?v=bevsbVbecDc\\n__\\nWendy Sulca is a Peruvian singer of Huayno music who found fame from Youtube.\\n__\\nIG: wensulca\\n__\\nLido Pimienta is a Columbian-Canadian musician, singer and songwriter.\\n__\\nhttps://lidopimienta.com/\\n__\\nIG: Nero Lvigi MGV', 'play_type': 'trackplay'}, {'id': 3190955, 'uri': 'https://api.kexp.org/v2/plays/3190955/', 'airdate': '2023-05-09T05:53:15-07:00', 'show': 56917, 'show_uri': 'https://api.kexp.org/v2/shows/56917/', 'image_uri': 'https://coverartarchive.org/release/696621c5-a347-4189-86f4-93d58085b71e/35181414759-500.jpg', 'thumbnail_uri': 'https://coverartarchive.org/release/696621c5-a347-4189-86f4-93d58085b71e/35181414759-250.jpg', 'song': 'Cypher 1: Ella', 'track_id': None, 'recording_id': 'da173237-7d71-4644-8d17-0ff2301f9d7b', 'artist': 'Mabiland, EMJAY & Mare Advertencia Lirika feat. Delfina Dib', 'artist_ids': ['9182b838-78c2-4e14-9211-29fba2628a43', '0302c78e-7ed6-47e7-8bb7-3ea94e079ab9', '4cd697f7-2ffc-4e6b-b283-1024ed8fce8d', 'd9cf4c9b-b05d-4a63-97e6-7ee123672930'], 'album': 'Cypher 1: Ella', 'release_id': None, 'release_group_id': '38306f47-6c42-4717-8082-984d112977ed', 'labels': ['Warner Music México'], 'label_ids': ['93c32583-8fe1-478a-ba07-6e6679f1585f'], 'release_date': '2023-03-14', 'rotation_status': 'Light', 'is_local': False, 'is_request': False, 'is_live': False, 'comment': '\"Cypher 1: Ella\" joins Mabiland, Mare Advertencia Lirika, EMJAY and Delfina Dib.\\n__\\nVisualizer: https://www.youtube.com/watch?v=gN9YLPZDoSU\\n__\\nMabiland is Colombia-born and currently based in Medellin and one of the few visible Black lesbian women in Latin America.\\n__\\nIG: @Mabiland\\n__\\nEMJAY is Mexican-born, Jersey raised.\\n__\\nhttps://open.spotify.com/artist/1q7OScFxFEs7TCk9ItTe6j\\n__\\nMare Advertencia Lirika is a Zapotecan rapper and songwriter from Oaxaca, Mexico.\\n__\\nIG: @mare.advertencia.lirika\\n__\\nDelfina Dib is an Argentinian singer, composer and rapper based in Colombia.\\n__\\nIG: @delfina.dib', 'play_type': 'trackplay'}, {'id': 3190954, 'uri': 'https://api.kexp.org/v2/plays/3190954/', 'airdate': '2023-05-09T05:49:49-07:00', 'show': 56917, 'show_uri': 'https://api.kexp.org/v2/shows/56917/', 'image_uri': '', 'thumbnail_uri': '', 'song': 'No More', 'track_id': None, 'recording_id': None, 'artist': 'Klassy', 'artist_ids': ['99a6db56-109e-4989-92e5-cc0a158aa05c'], 'album': 'Good Seeds', 'release_id': None, 'release_group_id': None, 'labels': ['Beatrock Music'], 'label_ids': [], 'release_date': '2023-05-01', 'rotation_status': 'R/N', 'is_local': False, 'is_request': False, 'is_live': False, 'comment': \"From Klassy's new album 'Good Seeds'!\\n__\\nhttps://beatrockmusic.com/collections/klassy\", 'play_type': 'trackplay'}, {'id': 3190953, 'uri': 'https://api.kexp.org/v2/plays/3190953/', 'airdate': '2023-05-09T05:47:02-07:00', 'show': 56917, 'show_uri': 'https://api.kexp.org/v2/shows/56917/', 'image_uri': 'https://ia902606.us.archive.org/4/items/mbid-c9876a4f-0576-45cb-9dd9-ca2d85f7559a/mbid-c9876a4f-0576-45cb-9dd9-ca2d85f7559a-34903194887_thumb500.jpg', 'thumbnail_uri': 'https://ia902606.us.archive.org/4/items/mbid-c9876a4f-0576-45cb-9dd9-ca2d85f7559a/mbid-c9876a4f-0576-45cb-9dd9-ca2d85f7559a-34903194887_thumb250.jpg', 'song': 'Yes Yes Yes', 'track_id': 'f602b7c8-91bb-4acf-b56e-589b2854fdba', 'recording_id': '36c00a92-767f-4a2c-9876-226301590920', 'artist': 'Nappy Nina feat. Stas Thee Boss', 'artist_ids': ['fda51f1b-b732-404f-b064-2527e214d55d', 'ff7c99e3-1984-4c26-8872-07ee54aef870'], 'album': 'Mourning Due', 'release_id': 'c9876a4f-0576-45cb-9dd9-ca2d85f7559a', 'release_group_id': '29879570-0637-4b6e-a114-8096f77acb23', 'labels': [], 'label_ids': [], 'release_date': '2023-02-17', 'rotation_status': 'Medium', 'is_local': True, 'is_request': False, 'is_live': False, 'comment': \"Brooklyn-based (Oakland-born) emcee Nappy Nina with Seattle's own Stas THEE Boss!\\n__\\nhttps://nappynina.bandcamp.com/album/mourning-due\", 'play_type': 'trackplay'}, {'id': 3190952, 'uri': 'https://api.kexp.org/v2/plays/3190952/', 'airdate': '2023-05-09T05:44:23-07:00', 'show': 56917, 'show_uri': 'https://api.kexp.org/v2/shows/56917/', 'image_uri': '', 'thumbnail_uri': '', 'comment': '', 'play_type': 'airbreak'}]\n"
     ]
    }
   ],
   "source": [
    "django_plays = requests.get(\"https://api.kexp.org/v2/plays/\")\n",
    "django_plays_object = json.loads(django_plays.text)\n",
    "print(django_plays_object['results'])"
   ],
   "metadata": {
    "collapsed": false,
    "ExecuteTime": {
     "start_time": "2023-05-09T09:50:33.677883Z",
     "end_time": "2023-05-09T09:50:33.979318Z"
    }
   }
  },
  {
   "cell_type": "code",
   "execution_count": 9,
   "outputs": [
    {
     "name": "stdout",
     "output_type": "stream",
     "text": [
      "[{'id': 3190971, 'uri': 'https://api.kexp.org/v2/plays/3190971/', 'airdate': '2023-05-09T06:51:16-07:00', 'show': 56917, 'show_uri': 'https://api.kexp.org/v2/shows/56917/', 'image_uri': '', 'thumbnail_uri': '', 'song': 'Move Through', 'track_id': None, 'recording_id': None, 'artist': 'B3lina', 'artist_ids': ['8587cc3f-7e60-4bb7-b2fd-6906aaaa3b78'], 'album': 'Move Through', 'release_id': None, 'release_group_id': None, 'labels': [], 'label_ids': [], 'release_date': '2020-10-22', 'rotation_status': None, 'is_local': True, 'is_request': False, 'is_live': False, 'comment': None, 'play_type': 'trackplay'}, {'id': 3190970, 'uri': 'https://api.kexp.org/v2/plays/3190970/', 'airdate': '2023-05-09T06:47:33-07:00', 'show': 56917, 'show_uri': 'https://api.kexp.org/v2/shows/56917/', 'image_uri': 'https://ia601604.us.archive.org/5/items/mbid-b2e77d84-db65-49bf-b8bf-f3eedf87d970/mbid-b2e77d84-db65-49bf-b8bf-f3eedf87d970-35543389295_thumb500.jpg', 'thumbnail_uri': 'https://ia601604.us.archive.org/5/items/mbid-b2e77d84-db65-49bf-b8bf-f3eedf87d970/mbid-b2e77d84-db65-49bf-b8bf-f3eedf87d970-35543389295_thumb250.jpg', 'song': 'Water My Heart', 'track_id': '7d54b86e-e275-4821-bfec-1300a97e6070', 'recording_id': 'fda8fefb-d0cc-4dfd-93b4-f9e89c3e036e', 'artist': 'rum.gold feat. Mereba', 'artist_ids': ['83ad8820-1646-46e8-8bb8-89f19cc12087', '233f6da8-ad25-42e1-ad6a-81a3a4bfc194'], 'album': 'U Street Anthology', 'release_id': 'b2e77d84-db65-49bf-b8bf-f3eedf87d970', 'release_group_id': 'bc7cd178-371c-4033-90f5-acd7fb761089', 'labels': ['Leola'], 'label_ids': ['db92411a-6ea4-4dfb-809f-7c77bcd6610e'], 'release_date': '2023-04-28', 'rotation_status': 'Light', 'is_local': False, 'is_request': False, 'is_live': False, 'comment': 'From rum.gold\\'s new album, \"a dedication to the city that shaped me.\"\\n__\\nhttps://www.rum.gold/', 'play_type': 'trackplay'}]\n"
     ]
    }
   ],
   "source": [
    "plays_header = []\n",
    "for i in range(0, 2):\n",
    "    plays_header.append(django_plays_object['results'][i])\n",
    "\n",
    "print(plays_header)\n"
   ],
   "metadata": {
    "collapsed": false,
    "ExecuteTime": {
     "start_time": "2023-05-09T09:50:33.979209Z",
     "end_time": "2023-05-09T09:50:33.981979Z"
    }
   }
  },
  {
   "cell_type": "code",
   "execution_count": 10,
   "outputs": [],
   "source": [
    "prompt = f\"\"\"\n",
    "Your task is to refine the plays domain in the overall domain output delimited by triple backticks.\n",
    "\n",
    "```{original_domain}```\n",
    "\n",
    "add the properties as created by the specific playlist output below delimited by ~~.\n",
    "\n",
    "~~\n",
    "{plays_header}\n",
    "~~\n",
    "\"\"\""
   ],
   "metadata": {
    "collapsed": false,
    "ExecuteTime": {
     "start_time": "2023-05-09T09:50:33.983608Z",
     "end_time": "2023-05-09T09:50:33.985794Z"
    }
   }
  },
  {
   "cell_type": "code",
   "execution_count": 11,
   "outputs": [
    {
     "name": "stdout",
     "output_type": "stream",
     "text": [
      "``````\n",
      "{\n",
      "  \"hosts\": [\n",
      "    {\n",
      "      \"id\": \"string\",\n",
      "      \"name\": \"string\",\n",
      "      \"bio\": \"string\",\n",
      "      \"social_media_links\": [\n",
      "        {\n",
      "          \"platform\": \"string\",\n",
      "          \"link\": \"string\"\n",
      "        }\n",
      "      ]\n",
      "    }\n",
      "  ],\n",
      "  \"programs\": [\n",
      "    {\n",
      "      \"id\": \"string\",\n",
      "      \"name\": \"string\",\n",
      "      \"description\": \"string\",\n",
      "      \"hosts\": [\n",
      "        {\n",
      "          \"id\": \"string\",\n",
      "          \"name\": \"string\"\n",
      "        }\n",
      "      ]\n",
      "    }\n",
      "  ],\n",
      "  \"shows\": [\n",
      "    {\n",
      "      \"id\": \"string\",\n",
      "      \"name\": \"string\",\n",
      "      \"description\": \"string\",\n",
      "      \"program_id\": \"string\"\n",
      "    }\n",
      "  ],\n",
      "  \"plays\": [\n",
      "    {\n",
      "      \"id\": \"string\",\n",
      "      \"name\": \"string\",\n",
      "      \"description\": \"string\",\n",
      "      \"show_id\": \"string\",\n",
      "      \"song\": \"string\",\n",
      "      \"artist\": \"string\",\n",
      "      \"album\": \"string\",\n",
      "      \"airdate\": \"datetime\"\n",
      "    }\n",
      "  ],\n",
      "  \"timeslots\": [\n",
      "    {\n",
      "      \"id\": \"string\",\n",
      "      \"start_time\": \"datetime\",\n",
      "      \"end_time\": \"datetime\",\n",
      "      \"play_id\": \"string\"\n",
      "    }\n",
      "  ]\n",
      "}\n",
      "```````\n"
     ]
    }
   ],
   "source": [
    "plays_domain = get_completion(prompt)\n",
    "print(plays_domain)"
   ],
   "metadata": {
    "collapsed": false,
    "ExecuteTime": {
     "start_time": "2023-05-09T09:50:33.987352Z",
     "end_time": "2023-05-09T09:50:49.203537Z"
    }
   }
  },
  {
   "cell_type": "code",
   "execution_count": 12,
   "outputs": [],
   "source": [
    "prompt = f\"\"\"\n",
    "Come up with an folder name for the domain in triple backticks.\n",
    "\n",
    "```\n",
    "{plays_domain}\n",
    "```\n",
    "\"\"\""
   ],
   "metadata": {
    "collapsed": false,
    "ExecuteTime": {
     "start_time": "2023-05-09T09:50:49.191742Z",
     "end_time": "2023-05-09T09:50:49.203679Z"
    }
   }
  },
  {
   "cell_type": "code",
   "execution_count": 13,
   "outputs": [
    {
     "name": "stdout",
     "output_type": "stream",
     "text": [
      "\"RadioData\"\n"
     ]
    }
   ],
   "source": [
    "folder_name = get_completion(prompt)\n",
    "print(folder_name)"
   ],
   "metadata": {
    "collapsed": false,
    "ExecuteTime": {
     "start_time": "2023-05-09T09:50:49.194556Z",
     "end_time": "2023-05-09T09:50:49.860265Z"
    }
   }
  },
  {
   "cell_type": "code",
   "execution_count": null,
   "outputs": [],
   "source": [],
   "metadata": {
    "collapsed": false
   }
  }
 ],
 "metadata": {
  "kernelspec": {
   "display_name": "Python 3",
   "language": "python",
   "name": "python3"
  },
  "language_info": {
   "codemirror_mode": {
    "name": "ipython",
    "version": 2
   },
   "file_extension": ".py",
   "mimetype": "text/x-python",
   "name": "python",
   "nbconvert_exporter": "python",
   "pygments_lexer": "ipython2",
   "version": "2.7.6"
  }
 },
 "nbformat": 4,
 "nbformat_minor": 0
}
